{
 "cells": [
  {
   "cell_type": "code",
   "execution_count": null,
   "id": "210e6f2b",
   "metadata": {},
   "outputs": [],
   "source": [
    "# optimal substructure present and overlapping sub problems"
   ]
  },
  {
   "cell_type": "code",
   "execution_count": 40,
   "id": "75e1097b",
   "metadata": {},
   "outputs": [],
   "source": [
    "def fib_memo(n, memo={}):\n",
    "    if memo.get(n): return memo[n]\n",
    "\n",
    "    if n <= 2: return 1\n",
    "    \n",
    "    res = fib_memo(n-1, memo) + fib_memo(n-2, memo)\n",
    "    memo[n] = res\n",
    "    return res"
   ]
  },
  {
   "cell_type": "code",
   "execution_count": 41,
   "id": "8d7ecd62",
   "metadata": {},
   "outputs": [
    {
     "data": {
      "text/plain": [
       "13"
      ]
     },
     "execution_count": 41,
     "metadata": {},
     "output_type": "execute_result"
    }
   ],
   "source": [
    "memo = {}\n",
    "fib_memo(7, memo)"
   ]
  },
  {
   "cell_type": "code",
   "execution_count": 42,
   "id": "c8120f09",
   "metadata": {},
   "outputs": [
    {
     "data": {
      "text/plain": [
       "{3: 2, 4: 3, 5: 5, 6: 8, 7: 13}"
      ]
     },
     "execution_count": 42,
     "metadata": {},
     "output_type": "execute_result"
    }
   ],
   "source": [
    "memo"
   ]
  },
  {
   "cell_type": "code",
   "execution_count": 5,
   "id": "2cfc2bde",
   "metadata": {},
   "outputs": [],
   "source": [
    "def fib_table(n):\n",
    "    if n <= 2: return 1\n",
    "    \n",
    "    fibs = [0, 1, 1]\n",
    "    \n",
    "    for i in range(3, n+1):\n",
    "        fibs.append(fibs[i-1] + fibs[i-2])\n",
    "    \n",
    "    return fibs[n]"
   ]
  },
  {
   "cell_type": "code",
   "execution_count": 6,
   "id": "6d8b19e1",
   "metadata": {},
   "outputs": [
    {
     "data": {
      "text/plain": [
       "13"
      ]
     },
     "execution_count": 6,
     "metadata": {},
     "output_type": "execute_result"
    }
   ],
   "source": [
    "fib_table(7)"
   ]
  },
  {
   "cell_type": "code",
   "execution_count": null,
   "id": "bb631fcb",
   "metadata": {},
   "outputs": [],
   "source": []
  }
 ],
 "metadata": {
  "kernelspec": {
   "display_name": "Python 3 (ipykernel)",
   "language": "python",
   "name": "python3"
  },
  "language_info": {
   "codemirror_mode": {
    "name": "ipython",
    "version": 3
   },
   "file_extension": ".py",
   "mimetype": "text/x-python",
   "name": "python",
   "nbconvert_exporter": "python",
   "pygments_lexer": "ipython3",
   "version": "3.10.5"
  }
 },
 "nbformat": 4,
 "nbformat_minor": 5
}

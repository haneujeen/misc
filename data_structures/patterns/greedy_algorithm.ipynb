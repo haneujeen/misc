{
 "cells": [
  {
   "cell_type": "code",
   "execution_count": null,
   "id": "4ee12b68",
   "metadata": {},
   "outputs": [],
   "source": [
    "# Properties:\n",
    "# The result of all optimal choices == global optimal solution\n",
    "# Optimal substructure (optimal solution to subproblem = optimal solution to )"
   ]
  },
  {
   "cell_type": "code",
   "execution_count": null,
   "id": "5b4c8c32",
   "metadata": {},
   "outputs": [],
   "source": [
    "\"\"\"\n",
    "capacity = 25\n",
    "item    size   value\n",
    "  0      22      19\n",
    "  1      10       9\n",
    "  2       9       9\n",
    "  3       7       6\n",
    "\n",
    "\"\"\""
   ]
  },
  {
   "cell_type": "code",
   "execution_count": null,
   "id": "8e2b60e2",
   "metadata": {},
   "outputs": [],
   "source": [
    "# f 1: value of 6/w1\n",
    "# f 2: value of 5/w1\n",
    "# f 3: value of 4/w1\n",
    "\n",
    "# cap = 50\n",
    "# f1 * 10 + f2 * 20 + f3 * 20 = 60 + 100 + 80 = 240"
   ]
  },
  {
   "cell_type": "code",
   "execution_count": 24,
   "id": "b7b9652e",
   "metadata": {},
   "outputs": [],
   "source": [
    "def knapsack(value, weight, capacity):\n",
    "    \n",
    "    fractional = [v/w for v, w in zip(value, weight)]\n",
    "    index = list(range(len(value))) # [0, 1, 2, ..., n]\n",
    "    index.sort(key=lambda x: fractional[x], reverse=True)\n",
    "    \n",
    "    total_value = 0\n",
    "    remaining = capacity\n",
    "    \n",
    "    for i in index:\n",
    "        if weight[i] <= remaining:\n",
    "            # If the item can be fully added\n",
    "            remaining -= weight[i]\n",
    "            total_value += value[i]\n",
    "        else:\n",
    "            # Add fractional part of the item\n",
    "            total_value += fractional[i] * remaining\n",
    "            break  # Knapsack is full\n",
    "\n",
    "    return total_value"
   ]
  },
  {
   "cell_type": "code",
   "execution_count": 25,
   "id": "4d925215",
   "metadata": {},
   "outputs": [
    {
     "data": {
      "text/plain": [
       "220.0"
      ]
     },
     "execution_count": 25,
     "metadata": {},
     "output_type": "execute_result"
    }
   ],
   "source": [
    "values = [30, 100, 120]\n",
    "weights = [10, 20, 30]\n",
    "capacity = 50\n",
    "\n",
    "knapsack(values, weights, capacity)"
   ]
  },
  {
   "cell_type": "code",
   "execution_count": 16,
   "id": "5ed9c62a",
   "metadata": {},
   "outputs": [
    {
     "data": {
      "text/plain": [
       "[0, 1, 2]"
      ]
     },
     "execution_count": 16,
     "metadata": {},
     "output_type": "execute_result"
    }
   ],
   "source": [
    "index = list(range(len(values)))\n",
    "index"
   ]
  },
  {
   "cell_type": "code",
   "execution_count": 17,
   "id": "1d77283e",
   "metadata": {},
   "outputs": [
    {
     "data": {
      "text/plain": [
       "[3.0, 5.0, 4.0]"
      ]
     },
     "execution_count": 17,
     "metadata": {},
     "output_type": "execute_result"
    }
   ],
   "source": [
    "ratio = [v/w for v, w in zip(values, weights)]\n",
    "ratio"
   ]
  },
  {
   "cell_type": "code",
   "execution_count": 18,
   "id": "42fe88b6",
   "metadata": {},
   "outputs": [
    {
     "data": {
      "text/plain": [
       "[1, 2, 0]"
      ]
     },
     "execution_count": 18,
     "metadata": {},
     "output_type": "execute_result"
    }
   ],
   "source": [
    "index.sort(key=lambda i: ratio[i], reverse=True)\n",
    "index"
   ]
  },
  {
   "cell_type": "code",
   "execution_count": null,
   "id": "db7a1e23",
   "metadata": {},
   "outputs": [],
   "source": [
    "def min_change(coins, amount):\n",
    "    min_coins = [float('inf') for _ in range(amount)]\n",
    "    min_coins[0] = 0\n",
    "    \n",
    "    for a in range(amount+1):\n",
    "        for coin in coins:\n",
    "            if coin <= a:\n",
    "                \n",
    "    "
   ]
  },
  {
   "cell_type": "code",
   "execution_count": null,
   "id": "976c4902",
   "metadata": {},
   "outputs": [],
   "source": [
    "\"\"\"\n",
    "Function MinChange(coins, amount)\n",
    "    // Initialize an array to store the minimum number of coins for each amount\n",
    "    // Set the value for 0 amount to 0 and all other amounts to a large number (like infinity)\n",
    "    minCoins[0...amount] = [0, infinity, infinity, ..., infinity]\n",
    "\n",
    "    // Loop over each amount from 1 to the target amount\n",
    "    For each a from 1 to amount\n",
    "        // Check each coin to see if it can contribute to the current amount\n",
    "        For each coin in coins\n",
    "            If coin <= a\n",
    "                // Update the minimum coins needed for amount 'a'\n",
    "                minCoins[a] = min(minCoins[a], minCoins[a - coin] + 1)\n",
    "\n",
    "    // Check if the amount can be achieved with the given coins\n",
    "    If minCoins[amount] == infinity\n",
    "        Return -1 // Not possible to make the amount with given coins\n",
    "    Else\n",
    "        Return minCoins[amount] // Minimum number of coins required\n",
    "\n",
    "End Function\n",
    "\"\"\"\n",
    "coins = [1, 2, 5]\n",
    "amount = 11\n",
    "min_change(coins, amount)"
   ]
  }
 ],
 "metadata": {
  "kernelspec": {
   "display_name": "Python 3 (ipykernel)",
   "language": "python",
   "name": "python3"
  },
  "language_info": {
   "codemirror_mode": {
    "name": "ipython",
    "version": 3
   },
   "file_extension": ".py",
   "mimetype": "text/x-python",
   "name": "python",
   "nbconvert_exporter": "python",
   "pygments_lexer": "ipython3",
   "version": "3.10.5"
  }
 },
 "nbformat": 4,
 "nbformat_minor": 5
}

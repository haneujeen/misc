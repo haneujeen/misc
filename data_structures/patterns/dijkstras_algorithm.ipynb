{
 "cells": [
  {
   "cell_type": "code",
   "execution_count": 12,
   "id": "cc117c5d",
   "metadata": {},
   "outputs": [],
   "source": [
    "# {\n",
    "#  'A': {vertex: 'B', weight: 10},\n",
    "#  'B': {vertex: 'A', weight: 10},\n",
    "# }\n",
    "\n",
    "class WeightedGraph:\n",
    "    def __init__(self):\n",
    "        self.adjacencylist = {}\n",
    "        \n",
    "    def add(self, vertex):\n",
    "        if not self.adjacencylist.get(vertex):\n",
    "            self.adjacencylist[vertex] = []\n",
    "    \n",
    "    def addedge(self, v1, v2, weight):\n",
    "        self.adjacencylist[v1].append({'vertex': v2, 'weight': weight})\n",
    "        self.adjacencylist[v2].append({'vertex': v1, 'weight': weight})"
   ]
  },
  {
   "cell_type": "code",
   "execution_count": 13,
   "id": "1555873b",
   "metadata": {},
   "outputs": [],
   "source": [
    "g = WeightedGraph()\n",
    "g.add('A')\n",
    "g.add('B')\n",
    "g.add('C')\n",
    "\n",
    "g.addedge('A', 'B', 9)\n",
    "g.addedge('A', 'C', 5)\n",
    "g.addedge('B', 'C', 7)"
   ]
  },
  {
   "cell_type": "code",
   "execution_count": 14,
   "id": "a989b024",
   "metadata": {},
   "outputs": [
    {
     "data": {
      "text/plain": [
       "{'A': [{'vertex': 'B', 'weight': 9}, {'vertex': 'C', 'weight': 5}],\n",
       " 'B': [{'vertex': 'A', 'weight': 9}, {'vertex': 'C', 'weight': 7}],\n",
       " 'C': [{'vertex': 'A', 'weight': 5}, {'vertex': 'B', 'weight': 7}]}"
      ]
     },
     "execution_count": 14,
     "metadata": {},
     "output_type": "execute_result"
    }
   ],
   "source": [
    "g.adjacencylist"
   ]
  },
  {
   "cell_type": "code",
   "execution_count": null,
   "id": "b5d102ba",
   "metadata": {},
   "outputs": [],
   "source": [
    "\"\"\"\n",
    "     A---\n",
    "   /      \\\n",
    "  C --     B\n",
    "  \\   D    |\n",
    "   \\ /  \\ /\n",
    "    F----E\n",
    "\n",
    "\"\"\""
   ]
  },
  {
   "cell_type": "code",
   "execution_count": 48,
   "id": "47c6675b",
   "metadata": {},
   "outputs": [],
   "source": [
    "import heapq\n",
    "\n",
    "class WeightedGraph:\n",
    "    def __init__(self):\n",
    "        self.adjacencylist = {}\n",
    "        \n",
    "    def add(self, vertex):\n",
    "        if not self.adjacencylist.get(vertex):\n",
    "            self.adjacencylist[vertex] = []\n",
    "    \n",
    "    def addedge(self, v1, v2, weight):\n",
    "        self.adjacencylist[v1].append({'vertex': v2, 'weight': weight})\n",
    "        self.adjacencylist[v2].append({'vertex': v1, 'weight': weight})\n",
    "        \n",
    "    def dijkstra(self, start, end):\n",
    "        # Create an object and set every vertex to be key with a value of infinity\n",
    "        # except starting vertex which has a value of 0\n",
    "        distances = {vertex: float('inf') for vertex in self.adjacencylist}\n",
    "        distances[start] = 0\n",
    "        \n",
    "        # Create a priority queue that holds pairs in distances list\n",
    "        pq = [(0, start)]\n",
    "        \n",
    "        # Create an object that holds every vertex as a key with a value of null\n",
    "        previous = {vertex: None for vertex in self.adjacencylist}\n",
    "        \n",
    "        # Loop over the priority queue while there's any node left\n",
    "        while pq:\n",
    "            # Dequeue a node\n",
    "            dist, vertex = heapq.heappop(pq)\n",
    "            \n",
    "            # If this path is already longer than the known shortest, skip it\n",
    "            ## == update the priority of an element already in the priority queue (min-heap)\n",
    "            ## Heapq module does not support a direct decrease-key operation\n",
    "            if dist > distances[vertex]:\n",
    "                continue\n",
    "            \n",
    "            for neighbor in self.adjacencylist[vertex]:\n",
    "                # The distance to its neighbor from itself\n",
    "                new_dist = dist + neighbor['weight']\n",
    "                \n",
    "                if distances[neighbor['vertex']] > new_dist:\n",
    "                    # Update the distances object\n",
    "                    distances[neighbor['vertex']] = new_dist\n",
    "                    # Update the previous object\n",
    "                    previous[neighbor['vertex']] = vertex\n",
    "                    # Eequeue a node\n",
    "                    heapq.heappush(pq, (dist + neighbor['weight'], neighbor['vertex']))\n",
    "        \n",
    "        path = [end]\n",
    "        node = previous[end]\n",
    "        while node:\n",
    "            path.append(node)\n",
    "            node = previous[node]\n",
    "            \n",
    "        return distances, list(reversed(path))\n",
    "    "
   ]
  },
  {
   "cell_type": "code",
   "execution_count": 49,
   "id": "1d27f92c",
   "metadata": {},
   "outputs": [],
   "source": [
    "graph = WeightedGraph()\n",
    "\n",
    "graph.add(\"A\");\n",
    "graph.add(\"B\");\n",
    "graph.add(\"C\");\n",
    "graph.add(\"D\");\n",
    "graph.add(\"E\");\n",
    "graph.add(\"F\");\n",
    "\n",
    "graph.addedge(\"A\",\"B\", 4);\n",
    "graph.addedge(\"A\",\"C\", 2);\n",
    "graph.addedge(\"B\",\"E\", 3);\n",
    "graph.addedge(\"C\",\"D\", 2);\n",
    "graph.addedge(\"C\",\"F\", 4);\n",
    "graph.addedge(\"D\",\"E\", 3);\n",
    "graph.addedge(\"D\",\"F\", 1);\n",
    "graph.addedge(\"E\",\"F\", 1);\n",
    "\n",
    "d, rp = graph.dijkstra('A', 'E')"
   ]
  },
  {
   "cell_type": "code",
   "execution_count": 50,
   "id": "0db60b9e",
   "metadata": {},
   "outputs": [
    {
     "data": {
      "text/plain": [
       "({'A': 0, 'B': 4, 'C': 2, 'D': 4, 'E': 6, 'F': 5}, ['A', 'C', 'D', 'F', 'E'])"
      ]
     },
     "execution_count": 50,
     "metadata": {},
     "output_type": "execute_result"
    }
   ],
   "source": [
    "d, rp"
   ]
  },
  {
   "cell_type": "code",
   "execution_count": null,
   "id": "8a6e4d96",
   "metadata": {},
   "outputs": [],
   "source": []
  }
 ],
 "metadata": {
  "kernelspec": {
   "display_name": "Python 3 (ipykernel)",
   "language": "python",
   "name": "python3"
  },
  "language_info": {
   "codemirror_mode": {
    "name": "ipython",
    "version": 3
   },
   "file_extension": ".py",
   "mimetype": "text/x-python",
   "name": "python",
   "nbconvert_exporter": "python",
   "pygments_lexer": "ipython3",
   "version": "3.10.5"
  }
 },
 "nbformat": 4,
 "nbformat_minor": 5
}

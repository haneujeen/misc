{
 "cells": [
  {
   "cell_type": "code",
   "execution_count": 23,
   "id": "0aaa49c2",
   "metadata": {},
   "outputs": [],
   "source": [
    "def merge(nums1, nums2):\n",
    "    result = []\n",
    "    i, j = 0, 0\n",
    "    \n",
    "    while i < len(nums1) and j < len(nums2):\n",
    "        if nums1[i] <= nums2[j]:\n",
    "            result.append(nums1[i])\n",
    "            i += 1\n",
    "        elif nums1[i] > nums2[j]:\n",
    "            result.append(nums2[j])\n",
    "            j += 1\n",
    "            \n",
    "    if i < len(nums1): \n",
    "        result.extend(nums1[i:])\n",
    "    if j < len(nums2):\n",
    "        result.extend(nums2[j:])\n",
    "    \n",
    "    return result"
   ]
  },
  {
   "cell_type": "code",
   "execution_count": 24,
   "id": "f07edea3",
   "metadata": {},
   "outputs": [
    {
     "data": {
      "text/plain": [
       "[1, 2, 10, 14, 50, 99, 100]"
      ]
     },
     "execution_count": 24,
     "metadata": {},
     "output_type": "execute_result"
    }
   ],
   "source": [
    "merge([1, 10, 50], [2, 14, 99, 100])"
   ]
  },
  {
   "cell_type": "code",
   "execution_count": 26,
   "id": "56552cac",
   "metadata": {},
   "outputs": [],
   "source": [
    "def merge_sort(nums):\n",
    "    if len(nums) == 1: return nums\n",
    "    \n",
    "    mid = len(nums)//2\n",
    "    left = merge_sort(nums[:mid])\n",
    "    right = merge_sort(nums[mid:])\n",
    "    \n",
    "    return merge(left, right)"
   ]
  },
  {
   "cell_type": "code",
   "execution_count": 27,
   "id": "29441923",
   "metadata": {},
   "outputs": [
    {
     "data": {
      "text/plain": [
       "[1, 9, 10, 24, 72, 73, 76]"
      ]
     },
     "execution_count": 27,
     "metadata": {},
     "output_type": "execute_result"
    }
   ],
   "source": [
    "merge_sort([10, 24, 76, 73, 72, 1, 9])"
   ]
  },
  {
   "cell_type": "code",
   "execution_count": null,
   "id": "809bda63",
   "metadata": {},
   "outputs": [],
   "source": []
  }
 ],
 "metadata": {
  "kernelspec": {
   "display_name": "Python 3 (ipykernel)",
   "language": "python",
   "name": "python3"
  },
  "language_info": {
   "codemirror_mode": {
    "name": "ipython",
    "version": 3
   },
   "file_extension": ".py",
   "mimetype": "text/x-python",
   "name": "python",
   "nbconvert_exporter": "python",
   "pygments_lexer": "ipython3",
   "version": "3.10.5"
  }
 },
 "nbformat": 4,
 "nbformat_minor": 5
}

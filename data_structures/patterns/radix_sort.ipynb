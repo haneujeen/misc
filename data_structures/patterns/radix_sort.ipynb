{
 "cells": [
  {
   "cell_type": "code",
   "execution_count": 21,
   "id": "87ea1f21",
   "metadata": {},
   "outputs": [],
   "source": [
    "def get_digit(num, place):\n",
    "    return num // (10 ** place) % 10\n",
    "\n",
    "def count_digit(num):\n",
    "    return len(str(num))\n",
    "\n",
    "def get_max(nums):\n",
    "    return count_digit(max(nums))"
   ]
  },
  {
   "cell_type": "code",
   "execution_count": 70,
   "id": "5ceed16d",
   "metadata": {},
   "outputs": [],
   "source": [
    "def radix_sort(nums):\n",
    "    count = get_max(nums)\n",
    "    \n",
    "    for k in range(count):\n",
    "        buckets = [[] for _ in range(10)]\n",
    "        \n",
    "        for n in nums:\n",
    "            digit = get_digit(n, k)\n",
    "            buckets[digit].append(n)\n",
    "        \n",
    "        nums = []\n",
    "        for buc in buckets:\n",
    "            nums.extend(buc)\n",
    "    \n",
    "    return nums"
   ]
  },
  {
   "cell_type": "code",
   "execution_count": 71,
   "id": "06539479",
   "metadata": {},
   "outputs": [
    {
     "name": "stdout",
     "output_type": "stream",
     "text": [
      "[[], [], [12, 9852], [23], [], [345, 2345], [], [5467], [], []]\n",
      "[12, 9852, 23, 345, 2345, 5467]\n",
      "[[], [12], [23], [], [345, 2345], [9852], [5467], [], [], []]\n",
      "[12, 23, 345, 2345, 9852, 5467]\n",
      "[[12, 23], [], [], [345, 2345], [5467], [], [], [], [9852], []]\n",
      "[12, 23, 345, 2345, 5467, 9852]\n",
      "[[12, 23, 345], [], [2345], [], [], [5467], [], [], [], [9852]]\n",
      "[12, 23, 345, 2345, 5467, 9852]\n"
     ]
    },
    {
     "data": {
      "text/plain": [
       "[12, 23, 345, 2345, 5467, 9852]"
      ]
     },
     "execution_count": 71,
     "metadata": {},
     "output_type": "execute_result"
    }
   ],
   "source": [
    "radix_sort([23, 345, 5467, 12, 2345, 9852])"
   ]
  }
 ],
 "metadata": {
  "kernelspec": {
   "display_name": "Python 3 (ipykernel)",
   "language": "python",
   "name": "python3"
  },
  "language_info": {
   "codemirror_mode": {
    "name": "ipython",
    "version": 3
   },
   "file_extension": ".py",
   "mimetype": "text/x-python",
   "name": "python",
   "nbconvert_exporter": "python",
   "pygments_lexer": "ipython3",
   "version": "3.10.5"
  }
 },
 "nbformat": 4,
 "nbformat_minor": 5
}

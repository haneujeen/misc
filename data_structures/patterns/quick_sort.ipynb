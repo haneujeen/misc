{
 "cells": [
  {
   "cell_type": "code",
   "execution_count": null,
   "id": "7715a442",
   "metadata": {},
   "outputs": [],
   "source": [
    "# Pivot\n",
    "# Partitioning\n",
    "# Recursive Sorting"
   ]
  },
  {
   "cell_type": "code",
   "execution_count": 14,
   "id": "c5e87fae",
   "metadata": {},
   "outputs": [],
   "source": [
    "def pivot(nums, start, end):\n",
    "    # start, end = 0, len(nums)\n",
    "    p = nums[start]\n",
    "    index = start\n",
    "    \n",
    "    for i in range(start + 1, end):\n",
    "        if p > nums[i]:\n",
    "            index += 1\n",
    "            nums[i], nums[index] = nums[index], nums[i]\n",
    "    \n",
    "    nums[start], nums[index] = nums[index], nums[start]\n",
    "    return index"
   ]
  },
  {
   "cell_type": "code",
   "execution_count": 15,
   "id": "ce19aef1",
   "metadata": {},
   "outputs": [
    {
     "data": {
      "text/plain": [
       "4"
      ]
     },
     "execution_count": 15,
     "metadata": {},
     "output_type": "execute_result"
    }
   ],
   "source": [
    "pivot([5, 2, 1, 8, 4, 7, 6, 3], 0, 8)"
   ]
  },
  {
   "cell_type": "code",
   "execution_count": 23,
   "id": "8fdbc048",
   "metadata": {},
   "outputs": [],
   "source": [
    "def quick_sort(nums, start, end):\n",
    "    if start < end - 1:\n",
    "        p = pivot(nums, start, end)\n",
    "\n",
    "        quick_sort(nums, start, p)\n",
    "        quick_sort(nums, p + 1, end)"
   ]
  },
  {
   "cell_type": "code",
   "execution_count": 24,
   "id": "e1ac4851",
   "metadata": {},
   "outputs": [],
   "source": [
    "nums = [5, 2, 1, 8, 4, 7, 6, 3]\n",
    "quick_sort(nums, 0, 8)"
   ]
  },
  {
   "cell_type": "code",
   "execution_count": 25,
   "id": "68a68ba2",
   "metadata": {},
   "outputs": [
    {
     "data": {
      "text/plain": [
       "[1, 2, 3, 4, 5, 6, 7, 8]"
      ]
     },
     "execution_count": 25,
     "metadata": {},
     "output_type": "execute_result"
    }
   ],
   "source": [
    "nums"
   ]
  },
  {
   "cell_type": "code",
   "execution_count": 26,
   "id": "18857c2a",
   "metadata": {},
   "outputs": [],
   "source": [
    "nums = []\n",
    "quick_sort(nums, 0, 0)"
   ]
  },
  {
   "cell_type": "code",
   "execution_count": 27,
   "id": "f3692e24",
   "metadata": {},
   "outputs": [
    {
     "data": {
      "text/plain": [
       "[]"
      ]
     },
     "execution_count": 27,
     "metadata": {},
     "output_type": "execute_result"
    }
   ],
   "source": [
    "nums"
   ]
  },
  {
   "cell_type": "code",
   "execution_count": null,
   "id": "23a7e141",
   "metadata": {},
   "outputs": [],
   "source": []
  }
 ],
 "metadata": {
  "kernelspec": {
   "display_name": "Python 3 (ipykernel)",
   "language": "python",
   "name": "python3"
  },
  "language_info": {
   "codemirror_mode": {
    "name": "ipython",
    "version": 3
   },
   "file_extension": ".py",
   "mimetype": "text/x-python",
   "name": "python",
   "nbconvert_exporter": "python",
   "pygments_lexer": "ipython3",
   "version": "3.10.5"
  }
 },
 "nbformat": 4,
 "nbformat_minor": 5
}

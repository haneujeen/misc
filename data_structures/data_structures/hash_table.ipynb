{
 "cells": [
  {
   "cell_type": "code",
   "execution_count": 77,
   "id": "8c8bed41",
   "metadata": {},
   "outputs": [
    {
     "data": {
      "text/plain": [
       "{'jack': 4098, 'sape': 4139, 'guido': 4127}"
      ]
     },
     "execution_count": 77,
     "metadata": {},
     "output_type": "execute_result"
    }
   ],
   "source": [
    "table = {'jack': 4098, 'sape': 4139}\n",
    "table['guido'] = 4127\n",
    "table"
   ]
  },
  {
   "cell_type": "code",
   "execution_count": 78,
   "id": "e3e992a0",
   "metadata": {},
   "outputs": [
    {
     "data": {
      "text/plain": [
       "True"
      ]
     },
     "execution_count": 78,
     "metadata": {},
     "output_type": "execute_result"
    }
   ],
   "source": [
    "'jack' in table"
   ]
  },
  {
   "cell_type": "code",
   "execution_count": 84,
   "id": "539e6d89",
   "metadata": {},
   "outputs": [
    {
     "name": "stdout",
     "output_type": "stream",
     "text": [
      "jack\n",
      "sape\n",
      "guido\n"
     ]
    }
   ],
   "source": [
    "for i in table.keys():\n",
    "    print(i)"
   ]
  },
  {
   "cell_type": "code",
   "execution_count": 85,
   "id": "a2fb4814",
   "metadata": {
    "scrolled": true
   },
   "outputs": [
    {
     "data": {
      "text/plain": [
       "dict_items([('jack', 4098), ('sape', 4139), ('guido', 4127)])"
      ]
     },
     "execution_count": 85,
     "metadata": {},
     "output_type": "execute_result"
    }
   ],
   "source": [
    "table.items()"
   ]
  },
  {
   "cell_type": "code",
   "execution_count": 89,
   "id": "f6d18366",
   "metadata": {},
   "outputs": [
    {
     "data": {
      "text/plain": [
       "True"
      ]
     },
     "execution_count": 89,
     "metadata": {},
     "output_type": "execute_result"
    }
   ],
   "source": [
    "4139 in table.values()"
   ]
  },
  {
   "cell_type": "code",
   "execution_count": 5,
   "id": "c84c8431",
   "metadata": {},
   "outputs": [],
   "source": [
    "del table"
   ]
  },
  {
   "cell_type": "code",
   "execution_count": 6,
   "id": "9ccd0448",
   "metadata": {},
   "outputs": [
    {
     "data": {
      "text/plain": [
       "-6797126087001824953"
      ]
     },
     "execution_count": 6,
     "metadata": {},
     "output_type": "execute_result"
    }
   ],
   "source": [
    "hash(\"hello!\")"
   ]
  },
  {
   "cell_type": "code",
   "execution_count": 8,
   "id": "d13d95ec",
   "metadata": {},
   "outputs": [
    {
     "data": {
      "text/plain": [
       "-5150792898117947178"
      ]
     },
     "execution_count": 8,
     "metadata": {},
     "output_type": "execute_result"
    }
   ],
   "source": [
    "hash(\"Hello!\")"
   ]
  },
  {
   "cell_type": "code",
   "execution_count": 15,
   "id": "38b6bd87",
   "metadata": {},
   "outputs": [
    {
     "data": {
      "text/plain": [
       "8"
      ]
     },
     "execution_count": 15,
     "metadata": {},
     "output_type": "execute_result"
    }
   ],
   "source": [
    "ord(\"h\") - 96"
   ]
  },
  {
   "cell_type": "code",
   "execution_count": 16,
   "id": "d05c09c8",
   "metadata": {},
   "outputs": [],
   "source": [
    "# Basic hash function with strings\n",
    "# Uniformly distributed & deterministic\n",
    "def hash(key, arraylen):\n",
    "    total = 0\n",
    "    PRIME_NUMBER = 31\n",
    "    \n",
    "    for i in range(min(len(key), 100)):\n",
    "        char = key[i]\n",
    "        value = ord(char) - 96\n",
    "        total = (total * PRIME_NUMBER + value) % arraylen\n",
    "    \n",
    "    return total"
   ]
  },
  {
   "cell_type": "code",
   "execution_count": 18,
   "id": "ee7644a5",
   "metadata": {},
   "outputs": [
    {
     "data": {
      "text/plain": [
       "5"
      ]
     },
     "execution_count": 18,
     "metadata": {},
     "output_type": "execute_result"
    }
   ],
   "source": [
    "hash(\"pink\", 13)"
   ]
  },
  {
   "cell_type": "code",
   "execution_count": 19,
   "id": "46c52b4f",
   "metadata": {},
   "outputs": [
    {
     "data": {
      "text/plain": [
       "5"
      ]
     },
     "execution_count": 19,
     "metadata": {},
     "output_type": "execute_result"
    }
   ],
   "source": [
    "hash(\"cyan\", 13)"
   ]
  },
  {
   "cell_type": "code",
   "execution_count": null,
   "id": "f330fa93",
   "metadata": {},
   "outputs": [],
   "source": [
    "# Separate chaining (nested structure)/Linear Probing (forwarding)"
   ]
  },
  {
   "cell_type": "code",
   "execution_count": 90,
   "id": "b0856a8f",
   "metadata": {},
   "outputs": [],
   "source": [
    "class HashTable:\n",
    "    def __init__(self, size=53):\n",
    "        self.key_map = [None] * size\n",
    "        \n",
    "    def _hash(self, key):\n",
    "        total = 0\n",
    "        PRIME_NUMBER = 31\n",
    "\n",
    "        for i in range(min(len(key), 100)):\n",
    "            char = key[i]\n",
    "            value = ord(char) - 96\n",
    "            total = (total * PRIME_NUMBER + value) % len(self.key_map)\n",
    "\n",
    "        return total\n",
    "    \n",
    "    def _set(self, key, value):\n",
    "        index = self._hash(key)\n",
    "        \n",
    "        if not self.key_map[index]:\n",
    "            self.key_map[index] = []\n",
    "        \n",
    "        self.key_map[index].append([key, value])\n",
    "        \n",
    "    def get(self, key):\n",
    "        index = self._hash(key)\n",
    "        \n",
    "        if self.key_map[index]:\n",
    "            for i in range(len(self.key_map[index])):\n",
    "                if self.key_map[index][i][0] == key:\n",
    "                    return self.key_map[index][i][1]\n",
    "            \n",
    "        return None\n",
    "    \n",
    "    def keys(self):\n",
    "        keys = []\n",
    "        for outer in self.key_map:\n",
    "            if outer:\n",
    "                for i in range(len(outer)):\n",
    "                    keys.append(outer[i][0])\n",
    "                    \n",
    "        return keys\n",
    "    \n",
    "    \n",
    "    def values(self):\n",
    "        values = []\n",
    "        for outer in self.key_map:\n",
    "            if outer:\n",
    "                for i in range(len(outer)):\n",
    "                    values.append(outer[i][1])\n",
    "                    \n",
    "        return set(values)"
   ]
  },
  {
   "cell_type": "code",
   "execution_count": 91,
   "id": "336788b3",
   "metadata": {},
   "outputs": [],
   "source": [
    "ht = HashTable(17)\n",
    "ht._set(\"hello world\", \"goodbye!\")\n",
    "ht._set(\"dogs\", \"are cool\")\n",
    "ht._set(\"cats\", \"are fine\")\n",
    "ht._set(\"I love\", \"pizza\")\n",
    "ht._set(\"2\", \"pizza\")"
   ]
  },
  {
   "cell_type": "code",
   "execution_count": 92,
   "id": "3751ef32",
   "metadata": {},
   "outputs": [
    {
     "data": {
      "text/plain": [
       "[None,\n",
       " None,\n",
       " [['I love', 'pizza']],\n",
       " None,\n",
       " None,\n",
       " [['2', 'pizza']],\n",
       " [['cats', 'are fine']],\n",
       " None,\n",
       " [['dogs', 'are cool']],\n",
       " None,\n",
       " None,\n",
       " [['hello world', 'goodbye!']],\n",
       " None,\n",
       " None,\n",
       " None,\n",
       " None,\n",
       " None]"
      ]
     },
     "execution_count": 92,
     "metadata": {},
     "output_type": "execute_result"
    }
   ],
   "source": [
    "ht.key_map"
   ]
  },
  {
   "cell_type": "code",
   "execution_count": 93,
   "id": "bb7309db",
   "metadata": {},
   "outputs": [
    {
     "data": {
      "text/plain": [
       "'are fine'"
      ]
     },
     "execution_count": 93,
     "metadata": {},
     "output_type": "execute_result"
    }
   ],
   "source": [
    "ht.get(\"cats\")"
   ]
  },
  {
   "cell_type": "code",
   "execution_count": 94,
   "id": "c39b2ed5",
   "metadata": {},
   "outputs": [
    {
     "data": {
      "text/plain": [
       "{'are cool', 'are fine', 'goodbye!', 'pizza'}"
      ]
     },
     "execution_count": 94,
     "metadata": {},
     "output_type": "execute_result"
    }
   ],
   "source": [
    "ht.values()"
   ]
  },
  {
   "cell_type": "code",
   "execution_count": 95,
   "id": "6e25fff1",
   "metadata": {},
   "outputs": [
    {
     "data": {
      "text/plain": [
       "['I love', '2', 'cats', 'dogs', 'hello world']"
      ]
     },
     "execution_count": 95,
     "metadata": {},
     "output_type": "execute_result"
    }
   ],
   "source": [
    "ht.keys()"
   ]
  },
  {
   "cell_type": "code",
   "execution_count": null,
   "id": "54aab64a",
   "metadata": {},
   "outputs": [],
   "source": []
  }
 ],
 "metadata": {
  "kernelspec": {
   "display_name": "Python 3 (ipykernel)",
   "language": "python",
   "name": "python3"
  },
  "language_info": {
   "codemirror_mode": {
    "name": "ipython",
    "version": 3
   },
   "file_extension": ".py",
   "mimetype": "text/x-python",
   "name": "python",
   "nbconvert_exporter": "python",
   "pygments_lexer": "ipython3",
   "version": "3.10.5"
  }
 },
 "nbformat": 4,
 "nbformat_minor": 5
}

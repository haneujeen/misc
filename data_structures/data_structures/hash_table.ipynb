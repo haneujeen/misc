{
 "cells": [
  {
   "cell_type": "code",
   "execution_count": null,
   "id": "af03300f",
   "metadata": {},
   "outputs": [],
   "source": [
    "# Hash table: key-value pairs, unordered keys\n",
    "# Hashing algorithm\n",
    "# Separate chaining/linear ..."
   ]
  },
  {
   "cell_type": "code",
   "execution_count": 4,
   "id": "8c8bed41",
   "metadata": {},
   "outputs": [
    {
     "data": {
      "text/plain": [
       "{'jack': 4098, 'sape': 4139, 'guido': 4127}"
      ]
     },
     "execution_count": 4,
     "metadata": {},
     "output_type": "execute_result"
    }
   ],
   "source": [
    "table = {'jack': 4098, 'sape': 4139}\n",
    "table['guido'] = 4127\n",
    "table"
   ]
  },
  {
   "cell_type": "code",
   "execution_count": 5,
   "id": "c84c8431",
   "metadata": {},
   "outputs": [],
   "source": [
    "del table"
   ]
  },
  {
   "cell_type": "code",
   "execution_count": 6,
   "id": "9ccd0448",
   "metadata": {},
   "outputs": [
    {
     "data": {
      "text/plain": [
       "-6797126087001824953"
      ]
     },
     "execution_count": 6,
     "metadata": {},
     "output_type": "execute_result"
    }
   ],
   "source": [
    "hash(\"hello!\")"
   ]
  },
  {
   "cell_type": "code",
   "execution_count": 8,
   "id": "d13d95ec",
   "metadata": {},
   "outputs": [
    {
     "data": {
      "text/plain": [
       "-5150792898117947178"
      ]
     },
     "execution_count": 8,
     "metadata": {},
     "output_type": "execute_result"
    }
   ],
   "source": [
    "hash(\"Hello!\")"
   ]
  },
  {
   "cell_type": "code",
   "execution_count": null,
   "id": "38b6bd87",
   "metadata": {},
   "outputs": [],
   "source": []
  }
 ],
 "metadata": {
  "kernelspec": {
   "display_name": "Python 3 (ipykernel)",
   "language": "python",
   "name": "python3"
  },
  "language_info": {
   "codemirror_mode": {
    "name": "ipython",
    "version": 3
   },
   "file_extension": ".py",
   "mimetype": "text/x-python",
   "name": "python",
   "nbconvert_exporter": "python",
   "pygments_lexer": "ipython3",
   "version": "3.10.5"
  }
 },
 "nbformat": 4,
 "nbformat_minor": 5
}

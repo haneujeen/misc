{
 "cells": [
  {
   "cell_type": "code",
   "execution_count": null,
   "id": "160547b1",
   "metadata": {},
   "outputs": [],
   "source": [
    "# At most two children\n",
    "# Left child node is always less than its parent node\n",
    "# Right child node is always greater than its parent node"
   ]
  },
  {
   "cell_type": "code",
   "execution_count": 8,
   "id": "a38a0516",
   "metadata": {},
   "outputs": [],
   "source": [
    "class Node:\n",
    "    def __init__(self, value):\n",
    "        self.value = value\n",
    "        self.left = None\n",
    "        self.right = None"
   ]
  },
  {
   "cell_type": "code",
   "execution_count": 69,
   "id": "cf443c6d",
   "metadata": {},
   "outputs": [],
   "source": [
    "class BinarySearchTree:\n",
    "    def __init__(self):\n",
    "        self.root = None\n",
    "        \n",
    "    def insert(self, value):\n",
    "        new_node = Node(value)\n",
    "        if not self.root:\n",
    "            self.root = new_node\n",
    "            return\n",
    "        \n",
    "        current = self.root\n",
    "        while True:\n",
    "            if value == current.value:\n",
    "                return\n",
    "            if value < current.value:\n",
    "                if not current.left:\n",
    "                    current.left = new_node\n",
    "                    return self\n",
    "                current = current.left\n",
    "            else:\n",
    "                if not current.right:\n",
    "                    current.right = new_node\n",
    "                    return self\n",
    "                current = current.right\n",
    "    \n",
    "    def find(self, value):\n",
    "        if not self.root: return False\n",
    "    \n",
    "        current = self.root\n",
    "        while current:\n",
    "            if value == current.value:\n",
    "                return current\n",
    "            if value < current.value:\n",
    "                current = current.left\n",
    "            else:\n",
    "                current = current.right\n",
    "                \n",
    "        return False"
   ]
  },
  {
   "cell_type": "code",
   "execution_count": 124,
   "id": "bf2d5c3b",
   "metadata": {},
   "outputs": [
    {
     "data": {
      "text/plain": [
       "<__main__.BinarySearchTree at 0x114e31a50>"
      ]
     },
     "execution_count": 124,
     "metadata": {},
     "output_type": "execute_result"
    }
   ],
   "source": [
    "tree = BinarySearchTree()\n",
    "tree.insert(10)\n",
    "tree.insert(6)\n",
    "tree.insert(8)\n",
    "tree.insert(3)\n",
    "tree.insert(15)\n",
    "tree.insert(20)"
   ]
  },
  {
   "cell_type": "code",
   "execution_count": 130,
   "id": "0741537c",
   "metadata": {},
   "outputs": [],
   "source": [
    "# Breadth First Search: More space complexity with broader tree?\n",
    "# Depth First Search: Pre-order, Post-order, In-order\n",
    "from collections import deque\n",
    "\n",
    "#            10\n",
    "#     6 --------> 15\n",
    "#   3 -> 8 --------> 20\n",
    "#\n",
    "# Left -> Right\n",
    "# [10, 6, 15, 3, 8, 20]\n",
    "def breadth_first_search(tree):\n",
    "    queue = deque([tree.root])\n",
    "    visited = []\n",
    "    \n",
    "    while queue:\n",
    "        node = queue.popleft()\n",
    "        visited.append(node)\n",
    "        if node.left:\n",
    "            queue.append(node.left)\n",
    "        if node.right:\n",
    "            queue.append(node.right)\n",
    "    \n",
    "    print(list(map(lambda x: x.value, visited)))\n",
    "    return visited\n",
    "\n",
    "# Top -> Bottom, Left -> Right\n",
    "# [10, 6, 3, 8, 15, 20]\n",
    "def dfs_pre_order(tree):\n",
    "    current = tree.root\n",
    "    visited = []\n",
    "    \n",
    "    def traverse(node):\n",
    "        visited.append(node)\n",
    "        if node.left: traverse(node.left)\n",
    "        if node.right: traverse(node.right)\n",
    " \n",
    "    traverse(current)\n",
    "    \n",
    "    print(list(map(lambda x: x.value, visited)))\n",
    "    return visited\n",
    "\n",
    "# Bottom -> Top, Left -> Right\n",
    "# [3, 8, 6, 20, 15, 10]\n",
    "def dfs_post_order(tree):\n",
    "    current = tree.root\n",
    "    visited = []\n",
    "    \n",
    "    def traverse(node):\n",
    "        if node.left: traverse(node.left)\n",
    "        if node.right: traverse(node.right)\n",
    "        visited.append(node)\n",
    " \n",
    "    traverse(current)\n",
    "    \n",
    "    print(list(map(lambda x: x.value, visited)))\n",
    "    return visited\n",
    "\n",
    "# Left -> Node -> Right\n",
    "# [3, 6, 8, 10, 15, 20]\n",
    "def dfs_in_order(tree):\n",
    "    current = tree.root\n",
    "    visited = []\n",
    "    \n",
    "    def traverse(node):\n",
    "        if node.left: traverse(node.left)\n",
    "        visited.append(node)\n",
    "        if node.right: traverse(node.right)\n",
    " \n",
    "    traverse(current)\n",
    "    \n",
    "    print(list(map(lambda x: x.value, visited)))\n",
    "    return visited"
   ]
  },
  {
   "cell_type": "code",
   "execution_count": 125,
   "id": "a5123a1e",
   "metadata": {},
   "outputs": [
    {
     "name": "stdout",
     "output_type": "stream",
     "text": [
      "[10, 6, 15, 3, 8, 20]\n"
     ]
    },
    {
     "data": {
      "text/plain": [
       "[<__main__.Node at 0x114e32bc0>,\n",
       " <__main__.Node at 0x114e31f60>,\n",
       " <__main__.Node at 0x114e32bf0>,\n",
       " <__main__.Node at 0x114e328c0>,\n",
       " <__main__.Node at 0x114e32a70>,\n",
       " <__main__.Node at 0x114e32f50>]"
      ]
     },
     "execution_count": 125,
     "metadata": {},
     "output_type": "execute_result"
    }
   ],
   "source": [
    "breadth_first_search(tree)"
   ]
  },
  {
   "cell_type": "code",
   "execution_count": 128,
   "id": "2ffe06c0",
   "metadata": {},
   "outputs": [
    {
     "name": "stdout",
     "output_type": "stream",
     "text": [
      "[10, 6, 3, 8, 15, 20]\n"
     ]
    },
    {
     "data": {
      "text/plain": [
       "[<__main__.Node at 0x114e32bc0>,\n",
       " <__main__.Node at 0x114e31f60>,\n",
       " <__main__.Node at 0x114e328c0>,\n",
       " <__main__.Node at 0x114e32a70>,\n",
       " <__main__.Node at 0x114e32bf0>,\n",
       " <__main__.Node at 0x114e32f50>]"
      ]
     },
     "execution_count": 128,
     "metadata": {},
     "output_type": "execute_result"
    }
   ],
   "source": [
    "dfs_pre_order(tree)"
   ]
  },
  {
   "cell_type": "code",
   "execution_count": 129,
   "id": "8a782a82",
   "metadata": {},
   "outputs": [
    {
     "name": "stdout",
     "output_type": "stream",
     "text": [
      "[3, 8, 6, 20, 15, 10]\n"
     ]
    },
    {
     "data": {
      "text/plain": [
       "[<__main__.Node at 0x114e328c0>,\n",
       " <__main__.Node at 0x114e32a70>,\n",
       " <__main__.Node at 0x114e31f60>,\n",
       " <__main__.Node at 0x114e32f50>,\n",
       " <__main__.Node at 0x114e32bf0>,\n",
       " <__main__.Node at 0x114e32bc0>]"
      ]
     },
     "execution_count": 129,
     "metadata": {},
     "output_type": "execute_result"
    }
   ],
   "source": [
    "dfs_post_order(tree)"
   ]
  },
  {
   "cell_type": "code",
   "execution_count": 131,
   "id": "ebe3a6ff",
   "metadata": {},
   "outputs": [
    {
     "name": "stdout",
     "output_type": "stream",
     "text": [
      "[3, 6, 8, 10, 15, 20]\n"
     ]
    },
    {
     "data": {
      "text/plain": [
       "[<__main__.Node at 0x114e328c0>,\n",
       " <__main__.Node at 0x114e31f60>,\n",
       " <__main__.Node at 0x114e32a70>,\n",
       " <__main__.Node at 0x114e32bc0>,\n",
       " <__main__.Node at 0x114e32bf0>,\n",
       " <__main__.Node at 0x114e32f50>]"
      ]
     },
     "execution_count": 131,
     "metadata": {},
     "output_type": "execute_result"
    }
   ],
   "source": [
    "dfs_in_order(tree)"
   ]
  },
  {
   "cell_type": "code",
   "execution_count": null,
   "id": "bb7d912b",
   "metadata": {},
   "outputs": [],
   "source": []
  }
 ],
 "metadata": {
  "kernelspec": {
   "display_name": "Python 3 (ipykernel)",
   "language": "python",
   "name": "python3"
  },
  "language_info": {
   "codemirror_mode": {
    "name": "ipython",
    "version": 3
   },
   "file_extension": ".py",
   "mimetype": "text/x-python",
   "name": "python",
   "nbconvert_exporter": "python",
   "pygments_lexer": "ipython3",
   "version": "3.10.5"
  }
 },
 "nbformat": 4,
 "nbformat_minor": 5
}

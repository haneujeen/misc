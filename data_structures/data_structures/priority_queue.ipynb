{
 "cells": [
  {
   "cell_type": "code",
   "execution_count": 1,
   "id": "807e67f6",
   "metadata": {},
   "outputs": [],
   "source": [
    "class Node:\n",
    "    def __init__(self, data, priority):\n",
    "        self.data = data\n",
    "        self.priority = priority"
   ]
  },
  {
   "cell_type": "code",
   "execution_count": 11,
   "id": "981dcabe",
   "metadata": {},
   "outputs": [],
   "source": [
    "class PriorityQueue:\n",
    "    def __init__(self):\n",
    "        self.values = []\n",
    "        \n",
    "    def enqueue(self, data, priority):\n",
    "        new_node = Node(data, priority)\n",
    "        self.values.append(new_node)\n",
    "        \n",
    "        index = len(self.values) - 1\n",
    "        \n",
    "        while index > 0:\n",
    "            parent_index = (index - 1)//2\n",
    "            \n",
    "            if self.values[index].priority < self.values[parent_index].priority:\n",
    "                self.values[index], self.values[parent_index] = self.values[parent_index], self.values[index]\n",
    "                index = parent_index\n",
    "            else:\n",
    "                break\n",
    "                \n",
    "    def dequeue(self):\n",
    "        if len(self.values) == 0:\n",
    "            return\n",
    "        \n",
    "        # Swap the first element with the root element, and pop the last item off\n",
    "        self.values[0], self.values[-1] = self.values[-1], self.values[0]\n",
    "        removed = self.values.pop()\n",
    "        \n",
    "        # Bubble down\n",
    "        index = 0\n",
    "        \n",
    "        while True:\n",
    "            left_index = index*2 + 1\n",
    "            right_index = index*2 + 2\n",
    "            min_index = None\n",
    "            \n",
    "            if left_index < len(self.values):\n",
    "                min_index = left_index\n",
    "            \n",
    "            if right_index < len(self.values) and self.values[left_index].priority > self.values[right_index].priority:\n",
    "                min_index = right_index\n",
    "            \n",
    "            if min_index and self.values[index].priority > self.values[min_index].priority:\n",
    "                self.values[index], self.values[min_index] = self.values[min_index], self.values[index]\n",
    "                index = min_index\n",
    "            else:\n",
    "                break\n",
    "                \n",
    "        return removed"
   ]
  },
  {
   "cell_type": "code",
   "execution_count": 34,
   "id": "61e88fcf",
   "metadata": {},
   "outputs": [],
   "source": [
    "q = PriorityQueue()\n",
    "q.enqueue(\"cold\", 4)\n",
    "q.enqueue(\"wound\", 5)\n",
    "q.enqueue(\"drunk\", 6)\n",
    "q.enqueue(\"flu\", 2)\n",
    "q.enqueue(\"concussion\", 1)"
   ]
  },
  {
   "cell_type": "code",
   "execution_count": 35,
   "id": "a5b9aa60",
   "metadata": {},
   "outputs": [
    {
     "name": "stdout",
     "output_type": "stream",
     "text": [
      "['concussion', 'flu', 'drunk', 'wound', 'cold']\n"
     ]
    }
   ],
   "source": [
    "print(list(map(lambda x: x.data, q.values)))"
   ]
  },
  {
   "cell_type": "code",
   "execution_count": 36,
   "id": "d3755138",
   "metadata": {},
   "outputs": [
    {
     "name": "stdout",
     "output_type": "stream",
     "text": [
      "['flu', 'cold', 'drunk', 'wound']\n"
     ]
    }
   ],
   "source": [
    "q.dequeue()\n",
    "print(list(map(lambda x: x.data, q.values)))"
   ]
  },
  {
   "cell_type": "code",
   "execution_count": 37,
   "id": "93a4d72f",
   "metadata": {},
   "outputs": [
    {
     "name": "stdout",
     "output_type": "stream",
     "text": [
      "['cold', 'wound', 'drunk']\n"
     ]
    }
   ],
   "source": [
    "q.dequeue()\n",
    "print(list(map(lambda x: x.data, q.values)))"
   ]
  },
  {
   "cell_type": "code",
   "execution_count": 38,
   "id": "8b0b0395",
   "metadata": {},
   "outputs": [
    {
     "name": "stdout",
     "output_type": "stream",
     "text": [
      "['wound', 'drunk']\n"
     ]
    }
   ],
   "source": [
    "q.dequeue()\n",
    "print(list(map(lambda x: x.data, q.values)))"
   ]
  },
  {
   "cell_type": "code",
   "execution_count": null,
   "id": "cd51049d",
   "metadata": {},
   "outputs": [],
   "source": []
  }
 ],
 "metadata": {
  "kernelspec": {
   "display_name": "Python 3 (ipykernel)",
   "language": "python",
   "name": "python3"
  },
  "language_info": {
   "codemirror_mode": {
    "name": "ipython",
    "version": 3
   },
   "file_extension": ".py",
   "mimetype": "text/x-python",
   "name": "python",
   "nbconvert_exporter": "python",
   "pygments_lexer": "ipython3",
   "version": "3.10.5"
  }
 },
 "nbformat": 4,
 "nbformat_minor": 5
}

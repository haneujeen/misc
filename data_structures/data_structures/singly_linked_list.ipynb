{
 "cells": [
  {
   "cell_type": "code",
   "execution_count": 108,
   "id": "721acf54",
   "metadata": {},
   "outputs": [],
   "source": [
    "# Better than array at insertion and deletion of first element\n",
    "# Does not contain an index\n",
    "# Each node has value and pointer references the next node\n",
    "\n",
    "class Node:\n",
    "    def __init__(self, value):\n",
    "        self.value = value\n",
    "        self.next = None"
   ]
  },
  {
   "cell_type": "code",
   "execution_count": 256,
   "id": "7b1019af",
   "metadata": {},
   "outputs": [],
   "source": [
    "# append(), appendleft(), pop(), popleft(), get(), set(), insert(), remove(), reverse()\n",
    "class SinglyLinkedList:\n",
    "    def __init__(self):\n",
    "        self.head = None\n",
    "        self.tail = None\n",
    "        self.length = 0\n",
    "    \n",
    "    def __str__(self):\n",
    "        head_value = self.head.value if self.head is not None else self.head\n",
    "        tail_value = self.tail.value if self.tail is not None else self.tail\n",
    "        return f\"head: {head_value}, tail: {tail_value}, length: {self.length}\"\n",
    "    \n",
    "    def append(self, value):\n",
    "        new_node = Node(value)\n",
    "        \n",
    "        if not self.head:\n",
    "            self.head = new_node\n",
    "            self.tail = self.head\n",
    "        else:    \n",
    "            self.tail.next = new_node\n",
    "            self.tail = new_node\n",
    "            \n",
    "        self.length += 1\n",
    "        \n",
    "    def pop(self):\n",
    "        if not self.tail:\n",
    "            return\n",
    "        \n",
    "        current = self.head\n",
    "        new_tail = current\n",
    "        \n",
    "        while current.next:\n",
    "            new_tail = current\n",
    "            current = current.next\n",
    "        \n",
    "        self.tail = new_tail\n",
    "        self.tail.next = None\n",
    "        self.length -= 1\n",
    "        \n",
    "        if self.length == 0:\n",
    "            self.head = None\n",
    "        \n",
    "        return current.value\n",
    "    \n",
    "    def appendleft(self, value):\n",
    "        new_node = Node(value)\n",
    "        \n",
    "        if not self.head:\n",
    "            self.head = new_node\n",
    "            self.tail = self.head\n",
    "        else:    \n",
    "            new_node.next = self.head\n",
    "            self.head = new_node\n",
    "            \n",
    "        self.length += 1\n",
    "    \n",
    "    def popleft(self):\n",
    "        if not self.head:\n",
    "            return\n",
    "        \n",
    "        current_head = self.head\n",
    "        self.head = current_head.next\n",
    "        self.length -= 1\n",
    "        \n",
    "        if self.length == 0:\n",
    "            self.tail == None\n",
    "        \n",
    "        return current_head.value\n",
    "    \n",
    "    def get(self, index):\n",
    "        if index > self.length - 1 or index < 0:\n",
    "            return None\n",
    "        \n",
    "        current = self.head\n",
    "        counter = 0\n",
    "        while index != counter:\n",
    "            current = current.next\n",
    "            counter += 1\n",
    "        return current\n",
    "    \n",
    "    def set(self, index, value):\n",
    "        current = self.get(index)\n",
    "        \n",
    "        if current:\n",
    "            current.value = value\n",
    "            return True\n",
    "        \n",
    "        return False\n",
    "    \n",
    "    def insert(self, index, value):\n",
    "        \n",
    "        if index < 0 or index > self.length - 1:\n",
    "            return False\n",
    "        elif index == self.length - 1:\n",
    "            self.append(value)\n",
    "        elif index == 0:\n",
    "            self.appendleft(value)\n",
    "        else:\n",
    "            new_node = Node(value)\n",
    "            current = self.get(index)\n",
    "            previous = self.get(index - 1)\n",
    "            previous.next = new_node\n",
    "            new_node.next = current\n",
    "        \n",
    "        self.length += 1\n",
    "        return True\n",
    "    \n",
    "    def remove(self, index):\n",
    "        if index < 0 or index > self.length - 1:\n",
    "            return False\n",
    "        elif index == self.length - 1:\n",
    "            return self.pop()\n",
    "        elif index == 0:\n",
    "            return self.popleft()\n",
    "        else:\n",
    "            removed = self.get(index)\n",
    "            previous = self.get(index - 1)\n",
    "            previous.next = removed.next\n",
    "            self.length -= 1\n",
    "            \n",
    "            return removed.value\n",
    "        \n",
    "    def reverse(self):\n",
    "        previous = None\n",
    "        current = self.head\n",
    "        while (current is not None):\n",
    "            next = current.next\n",
    "            current.next = previous\n",
    "            previous = current\n",
    "            current = next\n",
    "        self.head = previous"
   ]
  },
  {
   "cell_type": "code",
   "execution_count": 257,
   "id": "e9f841be",
   "metadata": {},
   "outputs": [],
   "source": [
    "linked_list = SinglyLinkedList()\n",
    "linked_list.append(\"HELLO\")\n",
    "linked_list.append(\"GOODBYE\")\n",
    "linked_list.append(\"!\")\n",
    "linked_list.append(\"<3\")\n",
    "linked_list.append(\":)\")"
   ]
  },
  {
   "cell_type": "code",
   "execution_count": 258,
   "id": "66cfc7d9",
   "metadata": {},
   "outputs": [
    {
     "data": {
      "text/plain": [
       "':)'"
      ]
     },
     "execution_count": 258,
     "metadata": {},
     "output_type": "execute_result"
    }
   ],
   "source": [
    "linked_list.get(4).value"
   ]
  },
  {
   "cell_type": "code",
   "execution_count": 259,
   "id": "244c4f71",
   "metadata": {},
   "outputs": [
    {
     "data": {
      "text/plain": [
       "True"
      ]
     },
     "execution_count": 259,
     "metadata": {},
     "output_type": "execute_result"
    }
   ],
   "source": [
    "linked_list.insert(2, \"!!\")"
   ]
  },
  {
   "cell_type": "code",
   "execution_count": 260,
   "id": "64de714f",
   "metadata": {},
   "outputs": [
    {
     "data": {
      "text/plain": [
       "'!'"
      ]
     },
     "execution_count": 260,
     "metadata": {},
     "output_type": "execute_result"
    }
   ],
   "source": [
    "linked_list.get(3).value"
   ]
  },
  {
   "cell_type": "code",
   "execution_count": 261,
   "id": "c183db64",
   "metadata": {},
   "outputs": [],
   "source": [
    "linked_list.reverse()"
   ]
  },
  {
   "cell_type": "code",
   "execution_count": 263,
   "id": "aef8a553",
   "metadata": {},
   "outputs": [
    {
     "data": {
      "text/plain": [
       "':)'"
      ]
     },
     "execution_count": 263,
     "metadata": {},
     "output_type": "execute_result"
    }
   ],
   "source": [
    "linked_list.get(0).value"
   ]
  },
  {
   "cell_type": "code",
   "execution_count": null,
   "id": "a40e0b30",
   "metadata": {},
   "outputs": [],
   "source": []
  },
  {
   "cell_type": "code",
   "execution_count": 145,
   "id": "b345c9bb",
   "metadata": {},
   "outputs": [],
   "source": [
    "from collections import deque"
   ]
  },
  {
   "cell_type": "code",
   "execution_count": 147,
   "id": "463a99e7",
   "metadata": {},
   "outputs": [],
   "source": [
    "q = deque([3, 4, 5])"
   ]
  },
  {
   "cell_type": "code",
   "execution_count": 148,
   "id": "78127c8d",
   "metadata": {},
   "outputs": [],
   "source": [
    "q.appendleft(2)"
   ]
  },
  {
   "cell_type": "code",
   "execution_count": 149,
   "id": "2fd472da",
   "metadata": {},
   "outputs": [
    {
     "data": {
      "text/plain": [
       "deque([2, 3, 4, 5])"
      ]
     },
     "execution_count": 149,
     "metadata": {},
     "output_type": "execute_result"
    }
   ],
   "source": [
    "q.remove()"
   ]
  },
  {
   "cell_type": "code",
   "execution_count": 232,
   "id": "dfae7fcf",
   "metadata": {},
   "outputs": [],
   "source": [
    "arr = [1, 2, 3]"
   ]
  },
  {
   "cell_type": "code",
   "execution_count": 233,
   "id": "492b2ed8",
   "metadata": {},
   "outputs": [],
   "source": [
    "arr.insert(5, 2)"
   ]
  },
  {
   "cell_type": "code",
   "execution_count": 234,
   "id": "3f899770",
   "metadata": {},
   "outputs": [
    {
     "data": {
      "text/plain": [
       "[1, 2, 3, 2]"
      ]
     },
     "execution_count": 234,
     "metadata": {},
     "output_type": "execute_result"
    }
   ],
   "source": [
    "arr"
   ]
  },
  {
   "cell_type": "code",
   "execution_count": 235,
   "id": "c8b26476",
   "metadata": {},
   "outputs": [],
   "source": [
    "arr.insert(1,\"a\")"
   ]
  },
  {
   "cell_type": "code",
   "execution_count": 236,
   "id": "d949f4b8",
   "metadata": {},
   "outputs": [
    {
     "data": {
      "text/plain": [
       "[1, 'a', 2, 3, 2]"
      ]
     },
     "execution_count": 236,
     "metadata": {},
     "output_type": "execute_result"
    }
   ],
   "source": [
    "arr"
   ]
  },
  {
   "cell_type": "code",
   "execution_count": null,
   "id": "5f842dff",
   "metadata": {},
   "outputs": [],
   "source": []
  }
 ],
 "metadata": {
  "kernelspec": {
   "display_name": "Python 3 (ipykernel)",
   "language": "python",
   "name": "python3"
  },
  "language_info": {
   "codemirror_mode": {
    "name": "ipython",
    "version": 3
   },
   "file_extension": ".py",
   "mimetype": "text/x-python",
   "name": "python",
   "nbconvert_exporter": "python",
   "pygments_lexer": "ipython3",
   "version": "3.10.5"
  }
 },
 "nbformat": 4,
 "nbformat_minor": 5
}

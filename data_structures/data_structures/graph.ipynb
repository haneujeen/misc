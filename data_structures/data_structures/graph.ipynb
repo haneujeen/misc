{
 "cells": [
  {
   "cell_type": "code",
   "execution_count": 1,
   "id": "8abe2931",
   "metadata": {},
   "outputs": [],
   "source": [
    "# Networks consisting of verticies connected by edges\n",
    "# Directed or undirected\n",
    "# Weighted unweighted"
   ]
  },
  {
   "cell_type": "code",
   "execution_count": 1,
   "id": "cd8a5cb1",
   "metadata": {},
   "outputs": [],
   "source": [
    "# Adjacency matrix: O(V^2) space, slower iteration, faster edge searching\n",
    "# Adjacency list: O(V+E) space, faster iteration, slower edge searching"
   ]
  },
  {
   "cell_type": "code",
   "execution_count": 64,
   "id": "c5eeab0b",
   "metadata": {},
   "outputs": [],
   "source": [
    "class Graph:\n",
    "    def __init__(self):\n",
    "        self.adjacencylist = {}\n",
    "        \n",
    "    def add(self, vertex):\n",
    "        if vertex not in self.adjacencylist:\n",
    "            self.adjacencylist[vertex] = []\n",
    "    \n",
    "    def add_edge(self, v1, v2):\n",
    "        self.adjacencylist[v1].append(v2)\n",
    "        self.adjacencylist[v2].append(v1)\n",
    "        "
   ]
  },
  {
   "cell_type": "code",
   "execution_count": 65,
   "id": "e10cae84",
   "metadata": {},
   "outputs": [],
   "source": [
    "g = Graph()\n",
    "g.add(\"Seoul\")\n",
    "g.add(\"Dallas\")\n",
    "g.add(\"Aspen\")"
   ]
  },
  {
   "cell_type": "code",
   "execution_count": 66,
   "id": "1ed5a0c0",
   "metadata": {},
   "outputs": [
    {
     "data": {
      "text/plain": [
       "{'Seoul': [], 'Dallas': [], 'Aspen': []}"
      ]
     },
     "execution_count": 66,
     "metadata": {},
     "output_type": "execute_result"
    }
   ],
   "source": [
    "g.adjacencylist"
   ]
  },
  {
   "cell_type": "code",
   "execution_count": 67,
   "id": "274a1e72",
   "metadata": {},
   "outputs": [],
   "source": [
    "g.add_edge(\"Seoul\", \"Aspen\")"
   ]
  },
  {
   "cell_type": "code",
   "execution_count": 68,
   "id": "b10a7bc1",
   "metadata": {},
   "outputs": [
    {
     "data": {
      "text/plain": [
       "{'Seoul': ['Aspen'], 'Dallas': [], 'Aspen': ['Seoul']}"
      ]
     },
     "execution_count": 68,
     "metadata": {},
     "output_type": "execute_result"
    }
   ],
   "source": [
    "g.adjacencylist"
   ]
  },
  {
   "cell_type": "code",
   "execution_count": null,
   "id": "ce0ea228",
   "metadata": {},
   "outputs": [],
   "source": []
  }
 ],
 "metadata": {
  "kernelspec": {
   "display_name": "Python 3 (ipykernel)",
   "language": "python",
   "name": "python3"
  },
  "language_info": {
   "codemirror_mode": {
    "name": "ipython",
    "version": 3
   },
   "file_extension": ".py",
   "mimetype": "text/x-python",
   "name": "python",
   "nbconvert_exporter": "python",
   "pygments_lexer": "ipython3",
   "version": "3.10.5"
  }
 },
 "nbformat": 4,
 "nbformat_minor": 5
}

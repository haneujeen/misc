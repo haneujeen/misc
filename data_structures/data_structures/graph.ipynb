{
 "cells": [
  {
   "cell_type": "code",
   "execution_count": 1,
   "id": "8abe2931",
   "metadata": {},
   "outputs": [],
   "source": [
    "# Networks consisting of verticies connected by edges\n",
    "# Directed or undirected\n",
    "# Weighted unweighted"
   ]
  },
  {
   "cell_type": "code",
   "execution_count": null,
   "id": "cd8a5cb1",
   "metadata": {},
   "outputs": [],
   "source": []
  }
 ],
 "metadata": {
  "kernelspec": {
   "display_name": "Python 3 (ipykernel)",
   "language": "python",
   "name": "python3"
  },
  "language_info": {
   "codemirror_mode": {
    "name": "ipython",
    "version": 3
   },
   "file_extension": ".py",
   "mimetype": "text/x-python",
   "name": "python",
   "nbconvert_exporter": "python",
   "pygments_lexer": "ipython3",
   "version": "3.10.5"
  }
 },
 "nbformat": 4,
 "nbformat_minor": 5
}

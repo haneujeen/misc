{
 "cells": [
  {
   "cell_type": "code",
   "execution_count": null,
   "id": "eab97495",
   "metadata": {},
   "outputs": [],
   "source": [
    "# Last In First Out --> Stack of plates"
   ]
  },
  {
   "cell_type": "code",
   "execution_count": 1,
   "id": "c2f2f794",
   "metadata": {},
   "outputs": [
    {
     "name": "stdout",
     "output_type": "stream",
     "text": [
      "0\n",
      "Full:  True\n",
      "Size:  3\n",
      "\n",
      "Elements popped from the stack\n",
      "THIRD\n",
      "SECOND\n",
      "FIRST\n",
      "\n",
      "Empty:  True\n"
     ]
    }
   ],
   "source": [
    "from queue import LifoQueue\n",
    " \n",
    "# Initializing a stack\n",
    "stack = LifoQueue(maxsize=3)\n",
    " \n",
    "# qsize() show the number of elements\n",
    "# in the stack\n",
    "print(stack.qsize())\n",
    " \n",
    "# put() function to push\n",
    "# element in the stack\n",
    "stack.put(\"FIRST\")\n",
    "stack.put(\"SECOND\")\n",
    "stack.put(\"THIRD\")\n",
    "    \n",
    "print(\"Full: \", stack.full())\n",
    "print(\"Size: \", stack.qsize())\n",
    " \n",
    "# get() function to pop\n",
    "# element from stack in\n",
    "# LIFO order\n",
    "print('\\nElements popped from the stack')\n",
    "print(stack.get())\n",
    "print(stack.get())\n",
    "print(stack.get())\n",
    " \n",
    "print(\"\\nEmpty: \", stack.empty())"
   ]
  },
  {
   "cell_type": "code",
   "execution_count": 3,
   "id": "4ef0e6cf",
   "metadata": {},
   "outputs": [],
   "source": [
    "class Node:\n",
    "    def __init__(self, value):\n",
    "        self.value, self.next = value, None"
   ]
  },
  {
   "cell_type": "code",
   "execution_count": 30,
   "id": "074036f7",
   "metadata": {},
   "outputs": [],
   "source": [
    "class Stack:\n",
    "    def __init__(self):\n",
    "        self.first, self.last, self.size = None, None, 0\n",
    "        \n",
    "    def push(self, value):\n",
    "        node = Node(value)\n",
    "        \n",
    "        if self.size == 0:\n",
    "            self.first = self.last = node\n",
    "        else:\n",
    "            node.next = self.head\n",
    "            self.head = node\n",
    "            \n",
    "        self.size += 1\n",
    "        return self.size\n",
    "    \n",
    "    def pop(self):\n",
    "        if not self.first: return None\n",
    "        \n",
    "        temp = self.first\n",
    "        if self.first == self.last:\n",
    "            self.last = None\n",
    "        \n",
    "        self.first = self.first.next\n",
    "        self.size -= 1\n",
    "        \n",
    "        temp.next = None\n",
    "        return temp.value"
   ]
  },
  {
   "cell_type": "code",
   "execution_count": 31,
   "id": "80ef811e",
   "metadata": {},
   "outputs": [],
   "source": [
    "stack = Stack()"
   ]
  },
  {
   "cell_type": "code",
   "execution_count": 32,
   "id": "bea31dce",
   "metadata": {},
   "outputs": [
    {
     "data": {
      "text/plain": [
       "1"
      ]
     },
     "execution_count": 32,
     "metadata": {},
     "output_type": "execute_result"
    }
   ],
   "source": [
    "stack.push(\"A\")"
   ]
  },
  {
   "cell_type": "code",
   "execution_count": 33,
   "id": "20ff1cf6",
   "metadata": {},
   "outputs": [
    {
     "data": {
      "text/plain": [
       "'A'"
      ]
     },
     "execution_count": 33,
     "metadata": {},
     "output_type": "execute_result"
    }
   ],
   "source": [
    "stack.first.value"
   ]
  },
  {
   "cell_type": "code",
   "execution_count": 36,
   "id": "58a91341",
   "metadata": {},
   "outputs": [],
   "source": [
    "stack.pop()"
   ]
  },
  {
   "cell_type": "code",
   "execution_count": 35,
   "id": "daeffe96",
   "metadata": {},
   "outputs": [],
   "source": [
    "stack.first"
   ]
  },
  {
   "cell_type": "code",
   "execution_count": 37,
   "id": "a5622cf8",
   "metadata": {},
   "outputs": [],
   "source": [
    "q = []"
   ]
  },
  {
   "cell_type": "code",
   "execution_count": 38,
   "id": "af58a03c",
   "metadata": {},
   "outputs": [],
   "source": [
    "q.append(\"FIRST\")\n",
    "q.append(\"SECOND\")\n",
    "q.append(\"THIRD\")"
   ]
  },
  {
   "cell_type": "code",
   "execution_count": 39,
   "id": "627d2e31",
   "metadata": {},
   "outputs": [
    {
     "data": {
      "text/plain": [
       "'FIRST'"
      ]
     },
     "execution_count": 39,
     "metadata": {},
     "output_type": "execute_result"
    }
   ],
   "source": [
    "q.pop(0) # Reindexing of O(n) complexity"
   ]
  },
  {
   "cell_type": "code",
   "execution_count": 61,
   "id": "776af476",
   "metadata": {},
   "outputs": [],
   "source": [
    "class Node:\n",
    "    def __init__(self, value):\n",
    "        self.value, self.next = value, None\n",
    "        \n",
    "class Queue:\n",
    "    def __init__(self):\n",
    "        self.first, self.last, self.size = None, None, 0\n",
    "        \n",
    "    def enqueue(self, value):\n",
    "        node = Node(value)\n",
    "        \n",
    "        if self.size == 0: \n",
    "            self.first = self.last = node\n",
    "        else:\n",
    "            self.last.next = node\n",
    "            self.last = node\n",
    "        \n",
    "        self.size += 1\n",
    "        return self.size\n",
    "        \n",
    "    def dequeue(self):\n",
    "        if self.size == 0: return None\n",
    "        \n",
    "        temp = self.first\n",
    "        if temp == self.last: self.last = None\n",
    "        \n",
    "        self.first = temp.next\n",
    "        self.size -= 1\n",
    "        \n",
    "        temp.next = None\n",
    "        return temp.value"
   ]
  },
  {
   "cell_type": "code",
   "execution_count": 62,
   "id": "d0feabb0",
   "metadata": {},
   "outputs": [],
   "source": [
    "q = Queue()"
   ]
  },
  {
   "cell_type": "code",
   "execution_count": 63,
   "id": "04559871",
   "metadata": {},
   "outputs": [
    {
     "data": {
      "text/plain": [
       "2"
      ]
     },
     "execution_count": 63,
     "metadata": {},
     "output_type": "execute_result"
    }
   ],
   "source": [
    "q.enqueue(\"A\")\n",
    "q.enqueue(\"B\")"
   ]
  },
  {
   "cell_type": "code",
   "execution_count": 64,
   "id": "25e81b7b",
   "metadata": {},
   "outputs": [],
   "source": [
    "a = q.dequeue()"
   ]
  },
  {
   "cell_type": "code",
   "execution_count": null,
   "id": "e6b2700e",
   "metadata": {},
   "outputs": [],
   "source": []
  }
 ],
 "metadata": {
  "kernelspec": {
   "display_name": "Python 3 (ipykernel)",
   "language": "python",
   "name": "python3"
  },
  "language_info": {
   "codemirror_mode": {
    "name": "ipython",
    "version": 3
   },
   "file_extension": ".py",
   "mimetype": "text/x-python",
   "name": "python",
   "nbconvert_exporter": "python",
   "pygments_lexer": "ipython3",
   "version": "3.10.5"
  }
 },
 "nbformat": 4,
 "nbformat_minor": 5
}

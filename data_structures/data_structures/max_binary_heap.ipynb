{
 "cells": [
  {
   "cell_type": "code",
   "execution_count": null,
   "id": "755fc9ed",
   "metadata": {},
   "outputs": [],
   "source": [
    "# Max Binary Heap: Parent is always greater than the children\n",
    "# Min Binary Heap:\n",
    "# Least amount of space as possible, left child node filled out first\n",
    "# Array representations\n",
    "# Priority Queue"
   ]
  },
  {
   "cell_type": "code",
   "execution_count": null,
   "id": "e60dfc4b",
   "metadata": {},
   "outputs": [],
   "source": [
    "#        41\n",
    "#    39       33\n",
    "#  18 27     12 *55*\n",
    "#\n",
    "# [41, 39, 33, 18, 27, 12, *55*]\n",
    "# (n)   \n",
    "#   (n*2+1)"
   ]
  },
  {
   "cell_type": "code",
   "execution_count": 120,
   "id": "f22df5e0",
   "metadata": {},
   "outputs": [],
   "source": [
    "class MaxBinaryHeap:\n",
    "    def __init__(self):\n",
    "        self.values = []\n",
    "        \n",
    "    def push(self, value):\n",
    "        self.values.append(value)\n",
    "        index = len(self.values) - 1\n",
    "        \n",
    "        # Bubble up\n",
    "        while index > 0:\n",
    "            parent_index = (index - 1)//2\n",
    "            \n",
    "            if self.values[index] > self.values[parent_index]:\n",
    "                self.values[index], self.values[parent_index] = self.values[parent_index], self.values[index]\n",
    "                index = parent_index\n",
    "            else:\n",
    "                break\n",
    "                \n",
    "    # Pop the largest item (root)\n",
    "    def pop_largest(self):\n",
    "        if len(self.values) == 0:\n",
    "            return\n",
    "        \n",
    "        # Swap the first element with the root element, and pop the last item off\n",
    "        self.values[0], self.values[-1] = self.values[-1], self.values[0]\n",
    "        removed = self.values.pop()\n",
    "        \n",
    "        # Bubble down\n",
    "        index = 0\n",
    "        \n",
    "        while True:\n",
    "            left_index = index*2 + 1\n",
    "            right_index = index*2 + 2\n",
    "            max_index = None\n",
    "            \n",
    "            if left_index < len(self.values):\n",
    "                max_index = left_index \n",
    "            \n",
    "            if right_index < len(self.values) and self.values[left_index] < self.values[right_index]:\n",
    "                max_index = right_index\n",
    "            \n",
    "            if max_index and self.values[index] < self.values[max_index]:\n",
    "                self.values[index], self.values[max_index] = self.values[max_index], self.values[index]\n",
    "                index = max_index\n",
    "            else:\n",
    "                break\n",
    "                \n",
    "        return removed"
   ]
  },
  {
   "cell_type": "code",
   "execution_count": 121,
   "id": "69fc3a8e",
   "metadata": {},
   "outputs": [],
   "source": [
    "heap = MaxBinaryHeap()"
   ]
  },
  {
   "cell_type": "code",
   "execution_count": 122,
   "id": "ac838347",
   "metadata": {},
   "outputs": [],
   "source": [
    "heap.push(1)"
   ]
  },
  {
   "cell_type": "code",
   "execution_count": 123,
   "id": "f723a6e3",
   "metadata": {},
   "outputs": [],
   "source": [
    "heap.push(4)"
   ]
  },
  {
   "cell_type": "code",
   "execution_count": 124,
   "id": "8189e8d0",
   "metadata": {},
   "outputs": [
    {
     "data": {
      "text/plain": [
       "[4, 1]"
      ]
     },
     "execution_count": 124,
     "metadata": {},
     "output_type": "execute_result"
    }
   ],
   "source": [
    "heap.values"
   ]
  },
  {
   "cell_type": "code",
   "execution_count": 125,
   "id": "6d6d43ac",
   "metadata": {},
   "outputs": [],
   "source": [
    "heap.push(3)"
   ]
  },
  {
   "cell_type": "code",
   "execution_count": 126,
   "id": "df764612",
   "metadata": {},
   "outputs": [
    {
     "data": {
      "text/plain": [
       "[4, 1, 3]"
      ]
     },
     "execution_count": 126,
     "metadata": {},
     "output_type": "execute_result"
    }
   ],
   "source": [
    "heap.values"
   ]
  },
  {
   "cell_type": "code",
   "execution_count": 127,
   "id": "94e06e8c",
   "metadata": {},
   "outputs": [],
   "source": [
    "heap.push(6)"
   ]
  },
  {
   "cell_type": "code",
   "execution_count": 128,
   "id": "a54e179a",
   "metadata": {},
   "outputs": [
    {
     "data": {
      "text/plain": [
       "[6, 4, 3, 1]"
      ]
     },
     "execution_count": 128,
     "metadata": {},
     "output_type": "execute_result"
    }
   ],
   "source": [
    "heap.values"
   ]
  },
  {
   "cell_type": "code",
   "execution_count": 129,
   "id": "1b4a7844",
   "metadata": {},
   "outputs": [
    {
     "data": {
      "text/plain": [
       "6"
      ]
     },
     "execution_count": 129,
     "metadata": {},
     "output_type": "execute_result"
    }
   ],
   "source": [
    "heap.pop_largest()"
   ]
  },
  {
   "cell_type": "code",
   "execution_count": 130,
   "id": "0b524a32",
   "metadata": {},
   "outputs": [
    {
     "data": {
      "text/plain": [
       "[4, 1, 3]"
      ]
     },
     "execution_count": 130,
     "metadata": {},
     "output_type": "execute_result"
    }
   ],
   "source": [
    "heap.values"
   ]
  },
  {
   "cell_type": "code",
   "execution_count": 131,
   "id": "d6025910",
   "metadata": {},
   "outputs": [
    {
     "data": {
      "text/plain": [
       "4"
      ]
     },
     "execution_count": 131,
     "metadata": {},
     "output_type": "execute_result"
    }
   ],
   "source": [
    "heap.pop_largest()"
   ]
  },
  {
   "cell_type": "code",
   "execution_count": 132,
   "id": "b4fe02c3",
   "metadata": {},
   "outputs": [
    {
     "data": {
      "text/plain": [
       "[3, 1]"
      ]
     },
     "execution_count": 132,
     "metadata": {},
     "output_type": "execute_result"
    }
   ],
   "source": [
    "heap.values"
   ]
  },
  {
   "cell_type": "code",
   "execution_count": 133,
   "id": "c9b44c5b",
   "metadata": {},
   "outputs": [
    {
     "data": {
      "text/plain": [
       "3"
      ]
     },
     "execution_count": 133,
     "metadata": {},
     "output_type": "execute_result"
    }
   ],
   "source": [
    "heap.pop_largest()"
   ]
  },
  {
   "cell_type": "code",
   "execution_count": 134,
   "id": "6c05dde4",
   "metadata": {},
   "outputs": [
    {
     "data": {
      "text/plain": [
       "[1]"
      ]
     },
     "execution_count": 134,
     "metadata": {},
     "output_type": "execute_result"
    }
   ],
   "source": [
    "heap.values"
   ]
  },
  {
   "cell_type": "code",
   "execution_count": 135,
   "id": "2cb45d4c",
   "metadata": {},
   "outputs": [
    {
     "data": {
      "text/plain": [
       "1"
      ]
     },
     "execution_count": 135,
     "metadata": {},
     "output_type": "execute_result"
    }
   ],
   "source": [
    "heap.pop_largest()"
   ]
  },
  {
   "cell_type": "code",
   "execution_count": 136,
   "id": "aeb15d9c",
   "metadata": {},
   "outputs": [
    {
     "data": {
      "text/plain": [
       "[]"
      ]
     },
     "execution_count": 136,
     "metadata": {},
     "output_type": "execute_result"
    }
   ],
   "source": [
    "heap.values"
   ]
  },
  {
   "cell_type": "code",
   "execution_count": 137,
   "id": "98cc6c58",
   "metadata": {},
   "outputs": [],
   "source": [
    "heap.pop_largest()"
   ]
  },
  {
   "cell_type": "code",
   "execution_count": 138,
   "id": "40713421",
   "metadata": {},
   "outputs": [
    {
     "data": {
      "text/plain": [
       "[]"
      ]
     },
     "execution_count": 138,
     "metadata": {},
     "output_type": "execute_result"
    }
   ],
   "source": [
    "heap.values"
   ]
  },
  {
   "cell_type": "code",
   "execution_count": null,
   "id": "98d7f4ad",
   "metadata": {},
   "outputs": [],
   "source": []
  }
 ],
 "metadata": {
  "kernelspec": {
   "display_name": "Python 3 (ipykernel)",
   "language": "python",
   "name": "python3"
  },
  "language_info": {
   "codemirror_mode": {
    "name": "ipython",
    "version": 3
   },
   "file_extension": ".py",
   "mimetype": "text/x-python",
   "name": "python",
   "nbconvert_exporter": "python",
   "pygments_lexer": "ipython3",
   "version": "3.10.5"
  }
 },
 "nbformat": 4,
 "nbformat_minor": 5
}

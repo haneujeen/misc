{
 "cells": [
  {
   "cell_type": "code",
   "execution_count": 4,
   "id": "f10ae5b5",
   "metadata": {},
   "outputs": [],
   "source": [
    "class Node:\n",
    "    def __init__(self, data):\n",
    "        self.data = data\n",
    "        self.next = None\n",
    "        self.prev = None"
   ]
  },
  {
   "cell_type": "code",
   "execution_count": 74,
   "id": "12a34f56",
   "metadata": {},
   "outputs": [],
   "source": [
    "class DoublyLinkedList:\n",
    "    def __init__(self):\n",
    "        self.head = None\n",
    "        self.tail = None\n",
    "        self.length = 0\n",
    "    \n",
    "    def append(self, data):\n",
    "        new_node = Node(data)\n",
    "        \n",
    "        if not self.head:\n",
    "            self.head = self.tail = new_node\n",
    "        else:\n",
    "            self.tail.next = new_node\n",
    "            new_node.prev = self.tail\n",
    "            self.tail = new_node\n",
    "            \n",
    "        self.length += 1\n",
    "        return self\n",
    "    \n",
    "    def pop(self):\n",
    "        if not self.head:\n",
    "            return\n",
    "        \n",
    "        old_tail = self.tail\n",
    "        \n",
    "        if self.length == 1:\n",
    "            self.head = self.tail = None\n",
    "        else:\n",
    "            self.tail = old_tail.prev\n",
    "            self.tail.next = None\n",
    "            old_tail.prev = None\n",
    "            \n",
    "        self.length -= 1\n",
    "        \n",
    "        return old_tail\n",
    "    \n",
    "    def popleft(self):\n",
    "        if not self.head:\n",
    "            return\n",
    "        \n",
    "        old_head = self.head\n",
    "        \n",
    "        if self.length == 1:\n",
    "            self.head = self.tail = None\n",
    "        else:\n",
    "            self.head = old_head.next\n",
    "            self.head.prev = None\n",
    "            old_head.next = None\n",
    "        \n",
    "        self.length -= 1\n",
    "        \n",
    "        return old_head\n",
    "    \n",
    "    def appendleft(self, data):\n",
    "        new_node = Node(data)\n",
    "        if self.length == 0:\n",
    "            self.head = self.tail = new_node\n",
    "        else:  \n",
    "            self.head.prev = new_node\n",
    "            new_node.next = self.head\n",
    "            self.head = new_node\n",
    "        \n",
    "        self.length += 1\n",
    "        return self\n",
    "    \n",
    "    def get(self, index):\n",
    "        if index < 0 or index >= self.length:\n",
    "            return None\n",
    "        \n",
    "        mid = self.length // 2\n",
    "        current = None\n",
    "        \n",
    "        if index < mid:\n",
    "            current = self.head\n",
    "            count = 0\n",
    "            while count != index:\n",
    "                current = current.next\n",
    "                count += 1\n",
    "        else:\n",
    "            current = self.tail\n",
    "            count = self.length - 1\n",
    "            while count != index:\n",
    "                current = current.prev\n",
    "                count -= 1\n",
    "                \n",
    "        return current\n",
    "    \n",
    "    def set(self, index, data):\n",
    "        node = self.get(index)\n",
    "        if node:\n",
    "            node.data = data\n",
    "            return True\n",
    "        return False\n",
    "    \n",
    "    def insert(self, index, data):\n",
    "        if index < 0 or index > self.length:\n",
    "            return None\n",
    "        \n",
    "        if index == 0:\n",
    "            return self.appendleft(data)\n",
    "        elif index == self.length:\n",
    "            return self.append(data)\n",
    "        \n",
    "        new_node = Node(data)\n",
    "        current = self.get(index)\n",
    "        if current:\n",
    "            previous = current.prev\n",
    "            previous.next = new_node\n",
    "            new_node.prev = previous\n",
    "            new_node.next = current\n",
    "            current.prev = new_node\n",
    "            self.length += 1\n",
    "            return True\n",
    "        else:\n",
    "            return False\n",
    "    \n",
    "    def remove(self, index):\n",
    "        if index == 0: return self.popleft()\n",
    "        elif index == self.length - 1: return self.pop()\n",
    "        \n",
    "        removed = self.get(index)\n",
    "        if removed:\n",
    "            previous = removed.prev\n",
    "            after = removed.next\n",
    "\n",
    "            previous.next = after\n",
    "            after.prev = previous\n",
    "            self.length -= 1\n",
    "\n",
    "            removed.prev = removed.next = None\n",
    "            return removed\n",
    "        else:\n",
    "            return False\n",
    "        \n",
    "    def reverse(self):\n",
    "        current = self.head\n",
    "        \n",
    "        self.head = self.tail\n",
    "        self.tail = current\n",
    "        \n",
    "        after = previous = None\n",
    "        \n",
    "        while current:\n",
    "            after = current.next\n",
    "            previous = current.prev\n",
    "            current.next = previous\n",
    "            current.prev = after\n",
    "            current = after\n",
    "        \n",
    "        return self"
   ]
  },
  {
   "cell_type": "code",
   "execution_count": 80,
   "id": "8f651339",
   "metadata": {},
   "outputs": [
    {
     "data": {
      "text/plain": [
       "<__main__.DoublyLinkedList at 0x103dec790>"
      ]
     },
     "execution_count": 80,
     "metadata": {},
     "output_type": "execute_result"
    }
   ],
   "source": [
    "linked = DoublyLinkedList()\n",
    "linked.append(\"A\") \n",
    "linked.append(\"B\")\n",
    "linked.append(\"C\")\n",
    "linked.append(\"D\")\n",
    "linked.append(\"E\")\n",
    "linked.append(\"F\") "
   ]
  },
  {
   "cell_type": "code",
   "execution_count": 81,
   "id": "d2a1abb9",
   "metadata": {},
   "outputs": [
    {
     "data": {
      "text/plain": [
       "<__main__.DoublyLinkedList at 0x103dec790>"
      ]
     },
     "execution_count": 81,
     "metadata": {},
     "output_type": "execute_result"
    }
   ],
   "source": [
    "linked.reverse()"
   ]
  },
  {
   "cell_type": "code",
   "execution_count": 84,
   "id": "9acb276b",
   "metadata": {},
   "outputs": [
    {
     "data": {
      "text/plain": [
       "'A'"
      ]
     },
     "execution_count": 84,
     "metadata": {},
     "output_type": "execute_result"
    }
   ],
   "source": [
    "linked.tail.data"
   ]
  },
  {
   "cell_type": "code",
   "execution_count": 77,
   "id": "64b12114",
   "metadata": {},
   "outputs": [
    {
     "data": {
      "text/plain": [
       "'HELLO'"
      ]
     },
     "execution_count": 77,
     "metadata": {},
     "output_type": "execute_result"
    }
   ],
   "source": [
    "linked.get(3).data"
   ]
  },
  {
   "cell_type": "code",
   "execution_count": 78,
   "id": "5fc09293",
   "metadata": {},
   "outputs": [
    {
     "data": {
      "text/plain": [
       "'D'"
      ]
     },
     "execution_count": 78,
     "metadata": {},
     "output_type": "execute_result"
    }
   ],
   "source": [
    "linked.get(3).next.data"
   ]
  },
  {
   "cell_type": "code",
   "execution_count": 79,
   "id": "2f162922",
   "metadata": {},
   "outputs": [
    {
     "data": {
      "text/plain": [
       "'HELLO'"
      ]
     },
     "execution_count": 79,
     "metadata": {},
     "output_type": "execute_result"
    }
   ],
   "source": [
    "linked.remove(3).data"
   ]
  },
  {
   "cell_type": "code",
   "execution_count": 67,
   "id": "4d2d0aac",
   "metadata": {},
   "outputs": [
    {
     "data": {
      "text/plain": [
       "'F'"
      ]
     },
     "execution_count": 67,
     "metadata": {},
     "output_type": "execute_result"
    }
   ],
   "source": [
    "linked.get(4).data"
   ]
  },
  {
   "cell_type": "code",
   "execution_count": 12,
   "id": "bc1ca912",
   "metadata": {},
   "outputs": [
    {
     "data": {
      "text/plain": [
       "'C'"
      ]
     },
     "execution_count": 12,
     "metadata": {},
     "output_type": "execute_result"
    }
   ],
   "source": [
    "n.data"
   ]
  },
  {
   "cell_type": "code",
   "execution_count": 26,
   "id": "ef9429c7",
   "metadata": {},
   "outputs": [
    {
     "data": {
      "text/plain": [
       "False"
      ]
     },
     "execution_count": 26,
     "metadata": {},
     "output_type": "execute_result"
    }
   ],
   "source": [
    "linked.set(7, \"D\")"
   ]
  },
  {
   "cell_type": "code",
   "execution_count": 23,
   "id": "16e568a1",
   "metadata": {},
   "outputs": [
    {
     "data": {
      "text/plain": [
       "'D'"
      ]
     },
     "execution_count": 23,
     "metadata": {},
     "output_type": "execute_result"
    }
   ],
   "source": [
    "linked.get(2).data"
   ]
  }
 ],
 "metadata": {
  "kernelspec": {
   "display_name": "Python 3 (ipykernel)",
   "language": "python",
   "name": "python3"
  },
  "language_info": {
   "codemirror_mode": {
    "name": "ipython",
    "version": 3
   },
   "file_extension": ".py",
   "mimetype": "text/x-python",
   "name": "python",
   "nbconvert_exporter": "python",
   "pygments_lexer": "ipython3",
   "version": "3.10.5"
  }
 },
 "nbformat": 4,
 "nbformat_minor": 5
}
